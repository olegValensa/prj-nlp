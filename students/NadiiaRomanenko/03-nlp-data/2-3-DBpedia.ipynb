{
 "cells": [
  {
   "cell_type": "markdown",
   "metadata": {},
   "source": [
    "## Write a query to collect all relations from dbpedia for every individual person listed in it - requires SPARQL"
   ]
  },
  {
   "cell_type": "code",
   "execution_count": 26,
   "metadata": {},
   "outputs": [],
   "source": [
    "from SPARQLWrapper import SPARQLWrapper, TSV\n",
    "\n",
    "sparql = SPARQLWrapper(\"http://dbpedia.org/sparql\")\n",
    "sparql.setQuery(\"\"\"\n",
    "    PREFIX dbo: <http://dbpedia.org/ontology/>\n",
    "    PREFIX dbp: <http://dbpedia.org/resource/>\n",
    "    PREFIX foaf: <http://xmlns.com/foaf/0.1/>\n",
    "    \n",
    "    SELECT ?person, ?relation, ?smth WHERE{\n",
    "        ?person a dbo:Person .\n",
    "        ?smth a owl:Thing .\n",
    "        ?person ?relation ?smth\n",
    "    }\n",
    "    \n",
    "    LIMIT 20\n",
    "    OFFSET 888888\n",
    "\"\"\")\n",
    "sparql.setReturnFormat(TSV)\n",
    "results = sparql.query().convert()"
   ]
  },
  {
   "cell_type": "code",
   "execution_count": 27,
   "metadata": {},
   "outputs": [
    {
     "name": "stdout",
     "output_type": "stream",
     "text": [
      "\"person\"\t\"relation\"\t\"smth\"\n",
      "\"http://dbpedia.org/resource/Roman_Bezjak\"\t\"http://dbpedia.org/ontology/wikiPageWikiLink\"\t\"http://dbpedia.org/resource/NK_Šentjur\"\n",
      "\"http://dbpedia.org/resource/Roman_White\"\t\"http://dbpedia.org/ontology/wikiPageWikiLink\"\t\"http://dbpedia.org/resource/Not_Just_You\"\n",
      "\"http://dbpedia.org/resource/Rolles_Gracie_Jr.\"\t\"http://dbpedia.org/ontology/wikiPageWikiLink\"\t\"http://dbpedia.org/resource/Rolls_Gracie\"\n",
      "\"http://dbpedia.org/resource/Romero_Cavalcanti\"\t\"http://dbpedia.org/ontology/wikiPageWikiLink\"\t\"http://dbpedia.org/resource/Rolls_Gracie\"\n",
      "\"http://dbpedia.org/resource/Romain_Iannetta\"\t\"http://dbpedia.org/ontology/wikiPageWikiLink\"\t\"http://dbpedia.org/resource/24_Hours_of_Le_Mans\"\n",
      "\"http://dbpedia.org/resource/Roman_White\"\t\"http://dbpedia.org/ontology/wikiPageWikiLink\"\t\"http://dbpedia.org/resource/Amen_(Edens_Edge_song)\"\n",
      "\"http://dbpedia.org/resource/Roman_Neustädter\"\t\"http://dbpedia.org/ontology/wikiPageWikiLink\"\t\"http://dbpedia.org/resource/Borussia_Mönchengladbach\"\n",
      "\"http://dbpedia.org/resource/Romelu_Lukaku\"\t\"http://dbpedia.org/ontology/wikiPageWikiLink\"\t\"http://dbpedia.org/resource/Crystal_Palace_F.C.\"\n",
      "\"http://dbpedia.org/resource/Roman_White\"\t\"http://dbpedia.org/ontology/wikiPageWikiLink\"\t\"http://dbpedia.org/resource/Over_(Blake_Shelton_song)\"\n",
      "\"http://dbpedia.org/resource/Romelu_Lukaku\"\t\"http://dbpedia.org/ontology/wikiPageWikiLink\"\t\"http://dbpedia.org/resource/Overtime\"\n",
      "\"http://dbpedia.org/resource/Romelu_Lukaku\"\t\"http://dbpedia.org/ontology/wikiPageWikiLink\"\t\"http://dbpedia.org/resource/Sunderland_A.F.C.\"\n",
      "\"http://dbpedia.org/resource/Romelu_Lukaku\"\t\"http://dbpedia.org/ontology/wikiPageWikiLink\"\t\"http://dbpedia.org/resource/Swansea_City_A.F.C.\"\n",
      "\"http://dbpedia.org/resource/Rolles_Gracie_Jr.\"\t\"http://dbpedia.org/ontology/wikiPageWikiLink\"\t\"http://dbpedia.org/resource/United_States\"\n",
      "\"http://dbpedia.org/resource/Rollie_Heath\"\t\"http://dbpedia.org/ontology/wikiPageWikiLink\"\t\"http://dbpedia.org/resource/United_States\"\n",
      "\"http://dbpedia.org/resource/Ron_Browz\"\t\"http://dbpedia.org/ontology/wikiPageWikiLink\"\t\"http://dbpedia.org/resource/United_States\"\n",
      "\"http://dbpedia.org/resource/Romelu_Lukaku\"\t\"http://dbpedia.org/ontology/wikiPageWikiLink\"\t\"http://dbpedia.org/resource/Dean_Court\"\n",
      "\"http://dbpedia.org/resource/Ron_Buxton\"\t\"http://dbpedia.org/ontology/wikiPageWikiLink\"\t\"http://dbpedia.org/resource/Harrisburg_Area_Community_College\"\n",
      "\"http://dbpedia.org/resource/Roman_Catholic_Archbishop_of_Lipa\"\t\"http://dbpedia.org/ontology/wikiPageWikiLink\"\t\"http://dbpedia.org/resource/Roman_Catholic_Archdiocese_of_Manila\"\n",
      "\"http://dbpedia.org/resource/Ron_Browz\"\t\"http://dbpedia.org/ontology/wikiPageWikiLink\"\t\"http://dbpedia.org/resource/Songwriter\"\n",
      "\"http://dbpedia.org/resource/Ron_Crawford\"\t\"http://dbpedia.org/ontology/wikiPageWikiLink\"\t\"http://dbpedia.org/resource/Arthur_3:_The_War_of_the_Two_Worlds\"\n",
      "\n"
     ]
    }
   ],
   "source": [
    "print(results.decode())"
   ]
  },
  {
   "cell_type": "markdown",
   "metadata": {},
   "source": [
    "## Try to query big local file"
   ]
  },
  {
   "cell_type": "code",
   "execution_count": null,
   "metadata": {},
   "outputs": [],
   "source": [
    "from rdflib import Graph, URIRef\n",
    "from rdflib_sqlalchemy.store import SQLAlchemy\n",
    "from sqlalchemy import create_engine\n",
    "from glob import glob\n",
    "from bz2 import BZ2File\n",
    "\n",
    "engine = create_engine('sqlite:///dbpedia.db')\n",
    "ident = URIRef(\"dbpedia\")\n",
    "store = SQLAlchemy(identifier=ident, engine=engine)\n",
    "graph = Graph(store, identifier=ident)\n",
    "graph.open('sqlite:///dbpedia.db', create=True) #the only storage option that doesn't need extra software\n",
    "\n",
    "dbpedia = BZ2File(glob('instance_types*')[0])\n",
    "graph.parse(dbpedia, format='nt')\n",
    "# in > 20h can query it. hmm "
   ]
  }
 ],
 "metadata": {
  "kernelspec": {
   "display_name": "Python 3",
   "language": "python",
   "name": "python3"
  },
  "language_info": {
   "codemirror_mode": {
    "name": "ipython",
    "version": 3
   },
   "file_extension": ".py",
   "mimetype": "text/x-python",
   "name": "python",
   "nbconvert_exporter": "python",
   "pygments_lexer": "ipython3",
   "version": "3.6.3"
  },
  "toc": {
   "nav_menu": {},
   "number_sections": true,
   "sideBar": true,
   "skip_h1_title": false,
   "title_cell": "Table of Contents",
   "title_sidebar": "Contents",
   "toc_cell": false,
   "toc_position": {},
   "toc_section_display": true,
   "toc_window_display": false
  },
  "varInspector": {
   "cols": {
    "lenName": 16,
    "lenType": 16,
    "lenVar": 40
   },
   "kernels_config": {
    "python": {
     "delete_cmd_postfix": "",
     "delete_cmd_prefix": "del ",
     "library": "var_list.py",
     "varRefreshCmd": "print(var_dic_list())"
    },
    "r": {
     "delete_cmd_postfix": ") ",
     "delete_cmd_prefix": "rm(",
     "library": "var_list.r",
     "varRefreshCmd": "cat(var_dic_list()) "
    }
   },
   "types_to_exclude": [
    "module",
    "function",
    "builtin_function_or_method",
    "instance",
    "_Feature"
   ],
   "window_display": false
  }
 },
 "nbformat": 4,
 "nbformat_minor": 2
}
