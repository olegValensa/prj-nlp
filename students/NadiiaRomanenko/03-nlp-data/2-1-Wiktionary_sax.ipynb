{
 "cells": [
  {
   "cell_type": "code",
   "execution_count": 1,
   "metadata": {},
   "outputs": [],
   "source": [
    "from glob import glob\n",
    "import logging, re, pdb, sqlite3, xml.sax\n",
    "from time import sleep\n",
    "from bz2 import BZ2File\n",
    "from progressbar import ProgressBar, UnknownLength\n",
    "logging.basicConfig()\n",
    "\n",
    "bar = ProgressBar(max_value=UnknownLength)"
   ]
  },
  {
   "cell_type": "markdown",
   "metadata": {},
   "source": [
    "Store synonym relations in sqlite:\n",
    "+ fast\n",
    "+ simple\n",
    "+ easy to keep unique, undirected synonym pairs, assuming if A is synonym of B, B is synonym of A -> better wikisynnet connectivity."
   ]
  },
  {
   "cell_type": "code",
   "execution_count": 2,
   "metadata": {},
   "outputs": [
    {
     "data": {
      "text/plain": [
       "<sqlite3.Cursor at 0x7fe1a46dd810>"
      ]
     },
     "execution_count": 2,
     "metadata": {},
     "output_type": "execute_result"
    }
   ],
   "source": [
    "conn = sqlite3.connect('fr_wiktionary_synonyms.db')\n",
    "c = conn.cursor()\n",
    "\n",
    "q_create_table = '''\n",
    "CREATE TABLE IF NOT EXISTS synonyms (\n",
    "    source_ TEXT NOT NULL,\n",
    "    target TEXT NOT NULL,\n",
    "    UNIQUE(source_, target) ON CONFLICT IGNORE\n",
    "    );\n",
    "'''\n",
    "c.execute(q_create_table)"
   ]
  },
  {
   "cell_type": "markdown",
   "metadata": {},
   "source": [
    "### Parse xml and extract synonym pairs"
   ]
  },
  {
   "cell_type": "code",
   "execution_count": 8,
   "metadata": {},
   "outputs": [],
   "source": [
    "class WikiHandler(xml.sax.ContentHandler):\n",
    "    \n",
    "    def __init__(self):\n",
    "        self.current_tag = ''\n",
    "        self.title = ''\n",
    "        self.text = ''\n",
    "        self.i = 0\n",
    "        \n",
    "    def startElement(self, tag, attrs):\n",
    "        self.current_tag = tag\n",
    "    \n",
    "    def characters(self, content):\n",
    "        if self.current_tag == 'title':\n",
    "            self.title += content\n",
    "        elif self.current_tag == 'text':\n",
    "            self.text += content\n",
    "            \n",
    "    def endElement(self, tag):\n",
    "        if tag == 'page' \\\n",
    "        and not ':' in self.title \\\n",
    "        and '{{S|synonymes}}' in self.text:\n",
    "            # get rid of Chinese\n",
    "            french_start = re.search('{{langu[ag]*e\\|fr}}', self.text)\n",
    "            if french_start:\n",
    "                self.text = self.text[french_start.span()[1]: ]\n",
    "                french_end = re.search('{{langu[ag]*e\\|[a-z]{2}}}', self.text)\n",
    "                if french_end:\n",
    "                    self.text = self.text[: french_end.span()[0]]\n",
    "                # extract from wiki markup\n",
    "                synonyms = '\\n'.join(list(filter(lambda p: '{{S|synonymes}}' in p,\n",
    "                                          re.split('\\n+=+', self.text))))\n",
    "                synonyms = [re.sub('\\|.+|#fr', '', s)\n",
    "                            for s in re.findall('\\[\\[([^\\[\\]]+)\\]\\]', synonyms)]\n",
    "                \n",
    "                synonyms = [tuple(sorted([self.title.strip(), s]))\n",
    "                            for s in synonyms]\n",
    "                \n",
    "                c.executemany('INSERT INTO synonyms VALUES (?,?)', synonyms)\n",
    "                conn.commit()\n",
    "        if tag == 'page':\n",
    "            self.title = ''\n",
    "            self.text = '' \n",
    "            self.i += 1\n",
    "            bar.update(self.i)"
   ]
  },
  {
   "cell_type": "code",
   "execution_count": 9,
   "metadata": {},
   "outputs": [],
   "source": [
    "wiktionary_f = glob('*frwiktionary*')[0]\n",
    "f = BZ2File(wiktionary_f)\n",
    "\n",
    "parser = xml.sax.make_parser()\n",
    "parser.setFeature(xml.sax.handler.feature_namespaces, 0)\n",
    "handler = WikiHandler()\n",
    "parser.setContentHandler(handler)"
   ]
  },
  {
   "cell_type": "code",
   "execution_count": 10,
   "metadata": {},
   "outputs": [
    {
     "name": "stderr",
     "output_type": "stream",
     "text": [
      "- 3535061 Elapsed Time: 1:30:57                                                "
     ]
    }
   ],
   "source": [
    "parser.parse(f)"
   ]
  },
  {
   "cell_type": "markdown",
   "metadata": {},
   "source": [
    "### Check it"
   ]
  },
  {
   "cell_type": "code",
   "execution_count": 12,
   "metadata": {},
   "outputs": [],
   "source": [
    "def get_synonyms(w, cursor):\n",
    "    q = f'''\n",
    "    SELECT * FROM synonyms\n",
    "    WHERE source_ = \"{w}\"\n",
    "          OR target = \"{w}\";\n",
    "    '''\n",
    "    cursor.execute(q)\n",
    "    return f'{w}: ' + ', '.join([w1 if w1 != w else w2 for w1, w2 in cursor.fetchall()])"
   ]
  },
  {
   "cell_type": "code",
   "execution_count": 19,
   "metadata": {},
   "outputs": [
    {
     "name": "stdout",
     "output_type": "stream",
     "text": [
      "chat: chat domestique, greffier, Grippeminaud, minet, mistigri, Raminagrobis, matou, causette, clavardage, tchatche, chat chastel, palatine, jeu du loup \n",
      "\n",
      " chien: cabot, cagouince, chienchien, clébard, clebs, corniaud, Fido, jaspineur, meilleur ami de l’homme, molosse, pitou, roquet, toutou, viausse, sergent, serre-joint, gardien, le meilleur ami de l’homme, policier, sex-appeal\n"
     ]
    }
   ],
   "source": [
    "print(get_synonyms('chat', c), '\\n\\n', get_synonyms('chien', c))"
   ]
  },
  {
   "cell_type": "code",
   "execution_count": 20,
   "metadata": {},
   "outputs": [],
   "source": [
    "conn.close()"
   ]
  }
 ],
 "metadata": {
  "kernelspec": {
   "display_name": "Python 3",
   "language": "python",
   "name": "python3"
  },
  "language_info": {
   "codemirror_mode": {
    "name": "ipython",
    "version": 3
   },
   "file_extension": ".py",
   "mimetype": "text/x-python",
   "name": "python",
   "nbconvert_exporter": "python",
   "pygments_lexer": "ipython3",
   "version": "3.6.3"
  },
  "toc": {
   "nav_menu": {},
   "number_sections": true,
   "sideBar": true,
   "skip_h1_title": false,
   "title_cell": "Table of Contents",
   "title_sidebar": "Contents",
   "toc_cell": false,
   "toc_position": {},
   "toc_section_display": true,
   "toc_window_display": false
  },
  "varInspector": {
   "cols": {
    "lenName": 16,
    "lenType": 16,
    "lenVar": 40
   },
   "kernels_config": {
    "python": {
     "delete_cmd_postfix": "",
     "delete_cmd_prefix": "del ",
     "library": "var_list.py",
     "varRefreshCmd": "print(var_dic_list())"
    },
    "r": {
     "delete_cmd_postfix": ") ",
     "delete_cmd_prefix": "rm(",
     "library": "var_list.r",
     "varRefreshCmd": "cat(var_dic_list()) "
    }
   },
   "types_to_exclude": [
    "module",
    "function",
    "builtin_function_or_method",
    "instance",
    "_Feature"
   ],
   "window_display": false
  }
 },
 "nbformat": 4,
 "nbformat_minor": 2
}
