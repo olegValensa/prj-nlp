{
 "cells": [
  {
   "cell_type": "code",
   "execution_count": 1,
   "metadata": {},
   "outputs": [],
   "source": [
    "from bs4 import BeautifulSoup\n",
    "import re, glob\n",
    "import pandas as pd\n",
    "from xml.sax import *"
   ]
  },
  {
   "cell_type": "code",
   "execution_count": 2,
   "metadata": {},
   "outputs": [
    {
     "data": {
      "text/plain": [
       "['conll14st-test-data/noalt/official-2014.0.sgml',\n",
       " 'conll14st-test-data/noalt/official-2014.1.sgml']"
      ]
     },
     "execution_count": 2,
     "metadata": {},
     "output_type": "execute_result"
    }
   ],
   "source": [
    "sgmls = glob.glob('conll14st-test-data/noalt/*.sgml', recursive=True)\n",
    "sgmls"
   ]
  },
  {
   "cell_type": "code",
   "execution_count": 3,
   "metadata": {},
   "outputs": [],
   "source": [
    "mistakes = []\n",
    "for file in sgmls:\n",
    "    with open(file, 'r') as f:\n",
    "        soup = BeautifulSoup(f.read(), 'lxml')\n",
    "        mistakes += [{\n",
    "            'doc_id': m.find_parent('doc').get('nid'),\n",
    "            'teacher_id': m.find_parent('annotation').get('teacher_id'),\n",
    "            'end_off': m.get('end_off'),\n",
    "            'end_par': m.get('end_par'),\n",
    "            'start_off': m.get('start_off'),\n",
    "            'start_par': m.get('start_par'),\n",
    "            'type': m.type.text, \n",
    "            'correction': m.correction.text,\n",
    "        }\n",
    "            for m in soup.select('mistake')]\n",
    "        \n",
    "mistakes = pd.DataFrame(mistakes)"
   ]
  },
  {
   "cell_type": "markdown",
   "metadata": {},
   "source": [
    "checks"
   ]
  },
  {
   "cell_type": "code",
   "execution_count": 4,
   "metadata": {},
   "outputs": [],
   "source": [
    "for file in sgmls:\n",
    "    with open(file, 'r') as f:\n",
    "        soup = BeautifulSoup(f.read(), 'lxml')\n",
    "        for doc in soup.select('doc'):\n",
    "            if len(doc.select('annotation')) != 1:\n",
    "                print('no annotations or more than 1 in document')\n",
    "            if len(doc.select('mistake')) < 1:\n",
    "                print('no mistakes')"
   ]
  },
  {
   "cell_type": "code",
   "execution_count": 5,
   "metadata": {},
   "outputs": [
    {
     "data": {
      "text/html": [
       "<div>\n",
       "<style scoped>\n",
       "    .dataframe tbody tr th:only-of-type {\n",
       "        vertical-align: middle;\n",
       "    }\n",
       "\n",
       "    .dataframe tbody tr th {\n",
       "        vertical-align: top;\n",
       "    }\n",
       "\n",
       "    .dataframe thead th {\n",
       "        text-align: right;\n",
       "    }\n",
       "</style>\n",
       "<table border=\"1\" class=\"dataframe\">\n",
       "  <thead>\n",
       "    <tr style=\"text-align: right;\">\n",
       "      <th></th>\n",
       "      <th>correction</th>\n",
       "      <th>doc_id</th>\n",
       "      <th>end_off</th>\n",
       "      <th>end_par</th>\n",
       "      <th>start_off</th>\n",
       "      <th>start_par</th>\n",
       "      <th>teacher_id</th>\n",
       "      <th>type</th>\n",
       "    </tr>\n",
       "  </thead>\n",
       "  <tbody>\n",
       "    <tr>\n",
       "      <th>0</th>\n",
       "      <td></td>\n",
       "      <td>1</td>\n",
       "      <td>46</td>\n",
       "      <td>1</td>\n",
       "      <td>42</td>\n",
       "      <td>1</td>\n",
       "      <td>8</td>\n",
       "      <td>ArtOrDet</td>\n",
       "    </tr>\n",
       "    <tr>\n",
       "      <th>1</th>\n",
       "      <td>diseases</td>\n",
       "      <td>1</td>\n",
       "      <td>125</td>\n",
       "      <td>1</td>\n",
       "      <td>118</td>\n",
       "      <td>1</td>\n",
       "      <td>8</td>\n",
       "      <td>Nn</td>\n",
       "    </tr>\n",
       "    <tr>\n",
       "      <th>2</th>\n",
       "      <td>However,</td>\n",
       "      <td>1</td>\n",
       "      <td>627</td>\n",
       "      <td>1</td>\n",
       "      <td>620</td>\n",
       "      <td>1</td>\n",
       "      <td>8</td>\n",
       "      <td>Trans</td>\n",
       "    </tr>\n",
       "    <tr>\n",
       "      <th>3</th>\n",
       "      <td>diagnosed</td>\n",
       "      <td>1</td>\n",
       "      <td>751</td>\n",
       "      <td>1</td>\n",
       "      <td>740</td>\n",
       "      <td>1</td>\n",
       "      <td>8</td>\n",
       "      <td>Mec</td>\n",
       "    </tr>\n",
       "    <tr>\n",
       "      <th>4</th>\n",
       "      <td></td>\n",
       "      <td>1</td>\n",
       "      <td>754</td>\n",
       "      <td>1</td>\n",
       "      <td>751</td>\n",
       "      <td>1</td>\n",
       "      <td>8</td>\n",
       "      <td>Prep</td>\n",
       "    </tr>\n",
       "  </tbody>\n",
       "</table>\n",
       "</div>"
      ],
      "text/plain": [
       "  correction doc_id end_off end_par start_off start_par teacher_id      type\n",
       "0                 1      46       1        42         1          8  ArtOrDet\n",
       "1   diseases      1     125       1       118         1          8        Nn\n",
       "2   However,      1     627       1       620         1          8     Trans\n",
       "3  diagnosed      1     751       1       740         1          8       Mec\n",
       "4                 1     754       1       751         1          8      Prep"
      ]
     },
     "execution_count": 5,
     "metadata": {},
     "output_type": "execute_result"
    }
   ],
   "source": [
    "mistakes.head()"
   ]
  },
  {
   "cell_type": "code",
   "execution_count": 6,
   "metadata": {},
   "outputs": [],
   "source": [
    "def merge_unique_mistakes(mistakes, columns=[]):\n",
    "    t8_mistakes = mistakes.loc[mistakes.teacher_id == '8', ]\n",
    "    t9_mistakes = mistakes.loc[mistakes.teacher_id == '9', ]\n",
    "\n",
    "    unique_mistakes = t8_mistakes.reindex(columns=columns + ['teacher_id'],\n",
    "                                         ).merge(t9_mistakes.reindex(columns=columns + ['teacher_id']),\n",
    "                                                 on=columns,\n",
    "                                                 how='outer')\n",
    "\n",
    "    unique_mistakes.teacher_id_x = unique_mistakes.teacher_id_x.fillna('')\n",
    "    unique_mistakes.teacher_id_y = unique_mistakes.teacher_id_y.fillna('')\n",
    "    unique_mistakes['corrected_by_teachers'] = unique_mistakes.teacher_id_x + unique_mistakes.teacher_id_y\n",
    "    del(unique_mistakes['teacher_id_x'], unique_mistakes['teacher_id_y'])\n",
    "    \n",
    "    return unique_mistakes"
   ]
  },
  {
   "cell_type": "code",
   "execution_count": 7,
   "metadata": {},
   "outputs": [
    {
     "data": {
      "text/plain": [
       "9     2518\n",
       "8     1584\n",
       "89     813\n",
       "Name: corrected_by_teachers, dtype: int64"
      ]
     },
     "execution_count": 7,
     "metadata": {},
     "output_type": "execute_result"
    }
   ],
   "source": [
    "unique_mistakes = merge_unique_mistakes(mistakes,\n",
    "                                        ['doc_id', 'end_off', 'end_par', 'start_off', 'start_par', 'type'])\n",
    "unique_mistakes.corrected_by_teachers.value_counts().plot(kind='bar')\n",
    "\n",
    "unique_mistakes['corrected_by_teachers'].value_counts()"
   ]
  },
  {
   "cell_type": "markdown",
   "metadata": {},
   "source": [
    "**Only ~17% of mistakes were spotted by 2 teachers identically (same span and type).**<br/>\n",
    "Teacher #9 annotated significantly more mistakes. Is she/he stricter?"
   ]
  },
  {
   "cell_type": "code",
   "execution_count": 8,
   "metadata": {},
   "outputs": [],
   "source": [
    "from scipy.stats import chi2_contingency\n",
    "from math import sqrt"
   ]
  },
  {
   "cell_type": "code",
   "execution_count": 9,
   "metadata": {},
   "outputs": [
    {
     "name": "stdout",
     "output_type": "stream",
     "text": [
      "p: 0.0\n",
      "26 degrees of freedom\n",
      "coef: 250.37687471914046\n",
      "Kramer coef: 0.20907186937533168\n"
     ]
    }
   ],
   "source": [
    "chi2, p, dof, expected = chi2_contingency(pd.crosstab(mistakes.type, mistakes.teacher_id))\n",
    "print(f'''p: {round(p, 5)}\\n\\\n",
    "{dof} degrees of freedom\\n\\\n",
    "coef: {chi2}\\n\\\n",
    "Kramer coef: {sqrt(chi2 / (len(mistakes) * (mistakes.teacher_id.nunique() - 1)))}''')"
   ]
  },
  {
   "cell_type": "markdown",
   "metadata": {},
   "source": [
    "There is a correlation between mistake type and teacher"
   ]
  },
  {
   "cell_type": "code",
   "execution_count": 10,
   "metadata": {},
   "outputs": [],
   "source": [
    "type_teacher = pd.crosstab(mistakes.type, mistakes.teacher_id)\n",
    "type_teacher['type'] = type_teacher.index\n",
    "type_teacher.columns.name = None\n",
    "type_teacher = type_teacher.reset_index(drop=True)\n",
    "type_teacher['total'] = type_teacher.sum(axis=1)\n",
    "\n",
    "teacher_per_type = unique_mistakes.groupby(['type', 'corrected_by_teachers'],\n",
    "                                           as_index=False)['doc_id'].count()\n",
    "teacher_per_type.columns = ['type', 'corrected_by_teachers', 'count']\n",
    "\n",
    "type_teacher = type_teacher.merge(teacher_per_type.loc[teacher_per_type.corrected_by_teachers == '89',\n",
    "                                                      ].reindex(columns=['type', 'count']),\n",
    "                                  on='type', how='left')\n",
    "type_teacher.columns = ['8', '9', 'type', 'total', 'mutual']\n",
    "\n",
    "type_teacher.mutual = type_teacher.mutual / type_teacher.total\n",
    "type_teacher['diff'] = type_teacher['9'] - type_teacher['8']\n",
    "type_teacher = type_teacher.sort_values('diff', ascending=False)"
   ]
  },
  {
   "cell_type": "code",
   "execution_count": 11,
   "metadata": {},
   "outputs": [
    {
     "data": {
      "text/html": [
       "<div>\n",
       "<style scoped>\n",
       "    .dataframe tbody tr th:only-of-type {\n",
       "        vertical-align: middle;\n",
       "    }\n",
       "\n",
       "    .dataframe tbody tr th {\n",
       "        vertical-align: top;\n",
       "    }\n",
       "\n",
       "    .dataframe thead th {\n",
       "        text-align: right;\n",
       "    }\n",
       "</style>\n",
       "<table border=\"1\" class=\"dataframe\">\n",
       "  <thead>\n",
       "    <tr style=\"text-align: right;\">\n",
       "      <th></th>\n",
       "      <th>8</th>\n",
       "      <th>9</th>\n",
       "      <th>type</th>\n",
       "      <th>total</th>\n",
       "      <th>mutual</th>\n",
       "      <th>diff</th>\n",
       "    </tr>\n",
       "  </thead>\n",
       "  <tbody>\n",
       "    <tr>\n",
       "      <th>1</th>\n",
       "      <td>231</td>\n",
       "      <td>496</td>\n",
       "      <td>Mec</td>\n",
       "      <td>727</td>\n",
       "      <td>0.119670</td>\n",
       "      <td>265</td>\n",
       "    </tr>\n",
       "    <tr>\n",
       "      <th>7</th>\n",
       "      <td>211</td>\n",
       "      <td>390</td>\n",
       "      <td>Prep</td>\n",
       "      <td>601</td>\n",
       "      <td>0.196339</td>\n",
       "      <td>179</td>\n",
       "    </tr>\n",
       "    <tr>\n",
       "      <th>24</th>\n",
       "      <td>340</td>\n",
       "      <td>479</td>\n",
       "      <td>Wci</td>\n",
       "      <td>819</td>\n",
       "      <td>0.105006</td>\n",
       "      <td>139</td>\n",
       "    </tr>\n",
       "    <tr>\n",
       "      <th>0</th>\n",
       "      <td>332</td>\n",
       "      <td>444</td>\n",
       "      <td>ArtOrDet</td>\n",
       "      <td>776</td>\n",
       "      <td>0.204897</td>\n",
       "      <td>112</td>\n",
       "    </tr>\n",
       "    <tr>\n",
       "      <th>8</th>\n",
       "      <td>95</td>\n",
       "      <td>199</td>\n",
       "      <td>Rloc-</td>\n",
       "      <td>294</td>\n",
       "      <td>0.034014</td>\n",
       "      <td>104</td>\n",
       "    </tr>\n",
       "    <tr>\n",
       "      <th>6</th>\n",
       "      <td>96</td>\n",
       "      <td>153</td>\n",
       "      <td>Pref</td>\n",
       "      <td>249</td>\n",
       "      <td>0.072289</td>\n",
       "      <td>57</td>\n",
       "    </tr>\n",
       "    <tr>\n",
       "      <th>9</th>\n",
       "      <td>105</td>\n",
       "      <td>154</td>\n",
       "      <td>SVA</td>\n",
       "      <td>259</td>\n",
       "      <td>0.220077</td>\n",
       "      <td>49</td>\n",
       "    </tr>\n",
       "    <tr>\n",
       "      <th>22</th>\n",
       "      <td>22</td>\n",
       "      <td>54</td>\n",
       "      <td>WOinc</td>\n",
       "      <td>76</td>\n",
       "      <td>0.039474</td>\n",
       "      <td>32</td>\n",
       "    </tr>\n",
       "    <tr>\n",
       "      <th>16</th>\n",
       "      <td>12</td>\n",
       "      <td>42</td>\n",
       "      <td>Um</td>\n",
       "      <td>54</td>\n",
       "      <td>NaN</td>\n",
       "      <td>30</td>\n",
       "    </tr>\n",
       "    <tr>\n",
       "      <th>25</th>\n",
       "      <td>77</td>\n",
       "      <td>103</td>\n",
       "      <td>Wform</td>\n",
       "      <td>180</td>\n",
       "      <td>0.188889</td>\n",
       "      <td>26</td>\n",
       "    </tr>\n",
       "    <tr>\n",
       "      <th>12</th>\n",
       "      <td>3</td>\n",
       "      <td>24</td>\n",
       "      <td>Spar</td>\n",
       "      <td>27</td>\n",
       "      <td>NaN</td>\n",
       "      <td>21</td>\n",
       "    </tr>\n",
       "    <tr>\n",
       "      <th>13</th>\n",
       "      <td>7</td>\n",
       "      <td>26</td>\n",
       "      <td>Srun</td>\n",
       "      <td>33</td>\n",
       "      <td>0.030303</td>\n",
       "      <td>19</td>\n",
       "    </tr>\n",
       "    <tr>\n",
       "      <th>20</th>\n",
       "      <td>133</td>\n",
       "      <td>150</td>\n",
       "      <td>Vt</td>\n",
       "      <td>283</td>\n",
       "      <td>0.204947</td>\n",
       "      <td>17</td>\n",
       "    </tr>\n",
       "    <tr>\n",
       "      <th>21</th>\n",
       "      <td>12</td>\n",
       "      <td>27</td>\n",
       "      <td>WOadv</td>\n",
       "      <td>39</td>\n",
       "      <td>0.076923</td>\n",
       "      <td>15</td>\n",
       "    </tr>\n",
       "    <tr>\n",
       "      <th>2</th>\n",
       "      <td>215</td>\n",
       "      <td>228</td>\n",
       "      <td>Nn</td>\n",
       "      <td>443</td>\n",
       "      <td>0.241535</td>\n",
       "      <td>13</td>\n",
       "    </tr>\n",
       "    <tr>\n",
       "      <th>17</th>\n",
       "      <td>31</td>\n",
       "      <td>37</td>\n",
       "      <td>V0</td>\n",
       "      <td>68</td>\n",
       "      <td>0.132353</td>\n",
       "      <td>6</td>\n",
       "    </tr>\n",
       "    <tr>\n",
       "      <th>26</th>\n",
       "      <td>9</td>\n",
       "      <td>15</td>\n",
       "      <td>Wtone</td>\n",
       "      <td>24</td>\n",
       "      <td>NaN</td>\n",
       "      <td>6</td>\n",
       "    </tr>\n",
       "    <tr>\n",
       "      <th>11</th>\n",
       "      <td>0</td>\n",
       "      <td>5</td>\n",
       "      <td>Smod</td>\n",
       "      <td>5</td>\n",
       "      <td>NaN</td>\n",
       "      <td>5</td>\n",
       "    </tr>\n",
       "    <tr>\n",
       "      <th>4</th>\n",
       "      <td>44</td>\n",
       "      <td>49</td>\n",
       "      <td>Others</td>\n",
       "      <td>93</td>\n",
       "      <td>0.064516</td>\n",
       "      <td>5</td>\n",
       "    </tr>\n",
       "    <tr>\n",
       "      <th>23</th>\n",
       "      <td>0</td>\n",
       "      <td>1</td>\n",
       "      <td>Wa</td>\n",
       "      <td>1</td>\n",
       "      <td>NaN</td>\n",
       "      <td>1</td>\n",
       "    </tr>\n",
       "    <tr>\n",
       "      <th>3</th>\n",
       "      <td>19</td>\n",
       "      <td>15</td>\n",
       "      <td>Npos</td>\n",
       "      <td>34</td>\n",
       "      <td>0.176471</td>\n",
       "      <td>-4</td>\n",
       "    </tr>\n",
       "    <tr>\n",
       "      <th>10</th>\n",
       "      <td>13</td>\n",
       "      <td>5</td>\n",
       "      <td>Sfrag</td>\n",
       "      <td>18</td>\n",
       "      <td>NaN</td>\n",
       "      <td>-8</td>\n",
       "    </tr>\n",
       "    <tr>\n",
       "      <th>19</th>\n",
       "      <td>49</td>\n",
       "      <td>37</td>\n",
       "      <td>Vm</td>\n",
       "      <td>86</td>\n",
       "      <td>0.034884</td>\n",
       "      <td>-12</td>\n",
       "    </tr>\n",
       "    <tr>\n",
       "      <th>15</th>\n",
       "      <td>94</td>\n",
       "      <td>79</td>\n",
       "      <td>Trans</td>\n",
       "      <td>173</td>\n",
       "      <td>0.080925</td>\n",
       "      <td>-15</td>\n",
       "    </tr>\n",
       "    <tr>\n",
       "      <th>5</th>\n",
       "      <td>47</td>\n",
       "      <td>18</td>\n",
       "      <td>Pform</td>\n",
       "      <td>65</td>\n",
       "      <td>0.076923</td>\n",
       "      <td>-29</td>\n",
       "    </tr>\n",
       "    <tr>\n",
       "      <th>18</th>\n",
       "      <td>132</td>\n",
       "      <td>91</td>\n",
       "      <td>Vform</td>\n",
       "      <td>223</td>\n",
       "      <td>0.112108</td>\n",
       "      <td>-41</td>\n",
       "    </tr>\n",
       "    <tr>\n",
       "      <th>14</th>\n",
       "      <td>68</td>\n",
       "      <td>10</td>\n",
       "      <td>Ssub</td>\n",
       "      <td>78</td>\n",
       "      <td>0.051282</td>\n",
       "      <td>-58</td>\n",
       "    </tr>\n",
       "  </tbody>\n",
       "</table>\n",
       "</div>"
      ],
      "text/plain": [
       "      8    9      type  total    mutual  diff\n",
       "1   231  496       Mec    727  0.119670   265\n",
       "7   211  390      Prep    601  0.196339   179\n",
       "24  340  479       Wci    819  0.105006   139\n",
       "0   332  444  ArtOrDet    776  0.204897   112\n",
       "8    95  199     Rloc-    294  0.034014   104\n",
       "6    96  153      Pref    249  0.072289    57\n",
       "9   105  154       SVA    259  0.220077    49\n",
       "22   22   54     WOinc     76  0.039474    32\n",
       "16   12   42        Um     54       NaN    30\n",
       "25   77  103     Wform    180  0.188889    26\n",
       "12    3   24      Spar     27       NaN    21\n",
       "13    7   26      Srun     33  0.030303    19\n",
       "20  133  150        Vt    283  0.204947    17\n",
       "21   12   27     WOadv     39  0.076923    15\n",
       "2   215  228        Nn    443  0.241535    13\n",
       "17   31   37        V0     68  0.132353     6\n",
       "26    9   15     Wtone     24       NaN     6\n",
       "11    0    5      Smod      5       NaN     5\n",
       "4    44   49    Others     93  0.064516     5\n",
       "23    0    1        Wa      1       NaN     1\n",
       "3    19   15      Npos     34  0.176471    -4\n",
       "10   13    5     Sfrag     18       NaN    -8\n",
       "19   49   37        Vm     86  0.034884   -12\n",
       "15   94   79     Trans    173  0.080925   -15\n",
       "5    47   18     Pform     65  0.076923   -29\n",
       "18  132   91     Vform    223  0.112108   -41\n",
       "14   68   10      Ssub     78  0.051282   -58"
      ]
     },
     "execution_count": 11,
     "metadata": {},
     "output_type": "execute_result"
    }
   ],
   "source": [
    "type_teacher"
   ]
  },
  {
   "cell_type": "markdown",
   "metadata": {},
   "source": [
    "Teacher #9 has greater proportion of punctuation, capitalization, spelling, typos; also of prepositional mistakes, wrong collocations, redundancy<br/> **How much annotators agree on mistakes regardless their type?**"
   ]
  },
  {
   "cell_type": "code",
   "execution_count": 12,
   "metadata": {
    "scrolled": true
   },
   "outputs": [
    {
     "data": {
      "text/plain": [
       "9     2169\n",
       "8     1235\n",
       "89    1162\n",
       "Name: corrected_by_teachers, dtype: int64"
      ]
     },
     "execution_count": 12,
     "metadata": {},
     "output_type": "execute_result"
    },
    {
     "data": {
      "image/png": "[encoded data removed]",
      "text/plain": [
       "<Figure size 432x288 with 1 Axes>"
      ]
     },
     "metadata": {},
     "output_type": "display_data"
    }
   ],
   "source": [
    "unique_mistakes_notype = merge_unique_mistakes(mistakes,\n",
    "                                        ['doc_id', 'end_off', 'end_par', 'start_off', 'start_par'])\n",
    "\n",
    "unique_mistakes_notype.corrected_by_teachers.value_counts().plot(kind='bar')\n",
    "unique_mistakes_notype['corrected_by_teachers'].value_counts()"
   ]
  },
  {
   "cell_type": "markdown",
   "metadata": {},
   "source": [
    "**Considering spans in paragraphs only, annotators agree about 25% of mistakes.**"
   ]
  }
 ],
 "metadata": {
  "kernelspec": {
   "display_name": "Python 3",
   "language": "python",
   "name": "python3"
  },
  "language_info": {
   "codemirror_mode": {
    "name": "ipython",
    "version": 3
   },
   "file_extension": ".py",
   "mimetype": "text/x-python",
   "name": "python",
   "nbconvert_exporter": "python",
   "pygments_lexer": "ipython3",
   "version": "3.6.3"
  },
  "toc": {
   "nav_menu": {},
   "number_sections": true,
   "sideBar": true,
   "skip_h1_title": false,
   "title_cell": "Table of Contents",
   "title_sidebar": "Contents",
   "toc_cell": false,
   "toc_position": {},
   "toc_section_display": true,
   "toc_window_display": false
  },
  "varInspector": {
   "cols": {
    "lenName": 16,
    "lenType": 16,
    "lenVar": 40
   },
   "kernels_config": {
    "python": {
     "delete_cmd_postfix": "",
     "delete_cmd_prefix": "del ",
     "library": "var_list.py",
     "varRefreshCmd": "print(var_dic_list())"
    },
    "r": {
     "delete_cmd_postfix": ") ",
     "delete_cmd_prefix": "rm(",
     "library": "var_list.r",
     "varRefreshCmd": "cat(var_dic_list()) "
    }
   },
   "position": {
    "height": "424px",
    "left": "943px",
    "right": "20px",
    "top": "120px",
    "width": "350px"
   },
   "types_to_exclude": [
    "module",
    "function",
    "builtin_function_or_method",
    "instance",
    "_Feature"
   ],
   "window_display": false
  }
 },
 "nbformat": 4,
 "nbformat_minor": 2
}
