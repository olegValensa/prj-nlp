{
 "cells": [
  {
   "cell_type": "markdown",
   "metadata": {},
   "source": [
    "## Download and extract as separate texts all posts in an section of choice from <http://forum.lvivport.com>"
   ]
  },
  {
   "cell_type": "code",
   "execution_count": 1,
   "metadata": {},
   "outputs": [],
   "source": [
    "import requests, re\n",
    "from bs4 import BeautifulSoup\n",
    "from time import sleep\n",
    "from tqdm import tqdm\n",
    "from zipfile import ZipFile"
   ]
  },
  {
   "cell_type": "code",
   "execution_count": 2,
   "metadata": {},
   "outputs": [
    {
     "name": "stderr",
     "output_type": "stream",
     "text": [
      "100%|██████████| 11/11 [00:15<00:00,  1.37s/it]\n"
     ]
    }
   ],
   "source": [
    "topics = []\n",
    "\n",
    "for page in tqdm(range(1, 12)): # 11 pages in section\n",
    "    setion_url = f'http://forum.lvivport.com/forums/kimnata-smixu.37/page-{page}'\n",
    "    page_html = requests.get(setion_url).text\n",
    "    soup = BeautifulSoup(page_html, 'lxml')\n",
    "    topics += [a.get('href') for a in soup.select('.discussionListItems li h3 > a')]\n",
    "    sleep(1)"
   ]
  },
  {
   "cell_type": "code",
   "execution_count": 3,
   "metadata": {},
   "outputs": [],
   "source": [
    "def get_post_data(post, topic):\n",
    "    return {\n",
    "        'author': post.select('.username.author')[0].get('href').split('/')[-2],\n",
    "        'date': post.select('.DateTime')[0].text,\n",
    "        'text': post.select('blockquote.messageText')[0].text.strip(),\n",
    "        'topic': topic\n",
    "    }"
   ]
  },
  {
   "cell_type": "code",
   "execution_count": null,
   "metadata": {},
   "outputs": [],
   "source": [
    "all_posts = []\n",
    "for topic in tqdm(topics):\n",
    "    thread_html = requests.get(f'http://forum.lvivport.com/{topic}').text\n",
    "    thread_soup = BeautifulSoup(thread_html, 'lxml')\n",
    "    try:\n",
    "        pagerange = int(re.findall('\\d+', thread_soup.select('.pageNavHeader')[0].text)[-1]) + 1\n",
    "    except IndexError: # if single-page thread\n",
    "        pagerange = 2\n",
    "    \n",
    "    for page in range(1, pagerange):\n",
    "        thr_page_html = requests.get(f'http://forum.lvivport.com/{topics[5]}page-{page}')\n",
    "        soup = BeautifulSoup(thr_page_html.text, 'lxml')\n",
    "        all_posts += [get_post_data(post, topic)\n",
    "                      for post in soup.select('div.messageInfo.primaryContent')]\n",
    "        \n",
    "        sleep(1)"
   ]
  },
  {
   "cell_type": "code",
   "execution_count": 23,
   "metadata": {},
   "outputs": [],
   "source": [
    "with ZipFile('2-2-forum_humor.zip', 'w') as posts_zip:\n",
    "    for i, post in enumerate(all_posts):\n",
    "        topic_id = re.search('.*\\.(\\d+)/', post['topic']).group(1)\n",
    "        with posts_zip.open(f'{i}_{topic_id}_{post[\"author\"]}_{post[\"date\"].replace(\" \", \"-\")}.txt', 'w') as f:\n",
    "            f.write(bytes(post['text'], encoding='utf-8'))"
   ]
  }
 ],
 "metadata": {
  "kernelspec": {
   "display_name": "Python 3",
   "language": "python",
   "name": "python3"
  },
  "language_info": {
   "codemirror_mode": {
    "name": "ipython",
    "version": 3
   },
   "file_extension": ".py",
   "mimetype": "text/x-python",
   "name": "python",
   "nbconvert_exporter": "python",
   "pygments_lexer": "ipython3",
   "version": "3.6.3"
  },
  "toc": {
   "nav_menu": {},
   "number_sections": true,
   "sideBar": true,
   "skip_h1_title": false,
   "title_cell": "Table of Contents",
   "title_sidebar": "Contents",
   "toc_cell": false,
   "toc_position": {},
   "toc_section_display": true,
   "toc_window_display": false
  },
  "varInspector": {
   "cols": {
    "lenName": 16,
    "lenType": 16,
    "lenVar": 40
   },
   "kernels_config": {
    "python": {
     "delete_cmd_postfix": "",
     "delete_cmd_prefix": "del ",
     "library": "var_list.py",
     "varRefreshCmd": "print(var_dic_list())"
    },
    "r": {
     "delete_cmd_postfix": ") ",
     "delete_cmd_prefix": "rm(",
     "library": "var_list.r",
     "varRefreshCmd": "cat(var_dic_list()) "
    }
   },
   "types_to_exclude": [
    "module",
    "function",
    "builtin_function_or_method",
    "instance",
    "_Feature"
   ],
   "window_display": false
  }
 },
 "nbformat": 4,
 "nbformat_minor": 2
}
