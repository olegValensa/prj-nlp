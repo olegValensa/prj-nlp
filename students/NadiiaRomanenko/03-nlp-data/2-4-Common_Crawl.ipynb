{
 "cells": [
  {
   "cell_type": "markdown",
   "metadata": {},
   "source": [
    "## Download and process an arbitrary file from Common Crawl, extract individual items, perform basic statistical analysis (distribution of hosts, words, etc.) and visualization (optional)"
   ]
  },
  {
   "cell_type": "code",
   "execution_count": 6,
   "metadata": {},
   "outputs": [],
   "source": [
    "from glob import glob\n",
    "from gzip import GzipFile\n",
    "from subprocess import call\n",
    "from time import sleep\n",
    "import requests, logging, chardet, re, sys, pdb, pickle\n",
    "from bs4 import BeautifulSoup\n",
    "from warcio.archiveiterator import ArchiveIterator\n",
    "from progressbar import ProgressBar, UnknownLength\n",
    "from langid import classify as langdetect\n",
    "from readability.readability import Document, Unparseable\n",
    "from collections import Counter\n",
    "import pandas as pd\n",
    "\n",
    "logging.basicConfig()\n",
    "bar = ProgressBar(max_value=UnknownLength)"
   ]
  },
  {
   "cell_type": "markdown",
   "metadata": {},
   "source": [
    "### Find arbitrary filename in downloaded file listing all CC files for specified period. Next download it to current dir"
   ]
  },
  {
   "cell_type": "code",
   "execution_count": 2,
   "metadata": {},
   "outputs": [],
   "source": [
    "warclist = GzipFile(glob('warc*')[0])\n",
    "for i, l in enumerate(warclist):\n",
    "    if i % 1993 == 723:\n",
    "        cc_file = f's3://commoncrawl/{l.decode().strip()}'\n",
    "        break\n",
    "        \n",
    "call(['aws', 's3', 'cp', cc_file, '', '--no-sign-request'])\n",
    "call(['rm', warclist.name])"
   ]
  },
  {
   "cell_type": "markdown",
   "metadata": {},
   "source": [
    "### Process downloaded warc file"
   ]
  },
  {
   "cell_type": "code",
   "execution_count": 3,
   "metadata": {},
   "outputs": [
    {
     "name": "stdout",
     "output_type": "stream",
     "text": [
      "CC-MAIN-20150728002301-00037-ip-10-236-191-2.ec2.internal.warc.gz\n"
     ]
    }
   ],
   "source": [
    "ccarc = glob('CC*.warc*')[0]\n",
    "words = Counter()\n",
    "langs = Counter()\n",
    "sys.setrecursionlimit(10000)\n",
    "print(ccarc)"
   ]
  },
  {
   "cell_type": "code",
   "execution_count": 17,
   "metadata": {},
   "outputs": [
    {
     "name": "stderr",
     "output_type": "stream",
     "text": [
      "\\ 38440 Elapsed Time: 5:33:51                                                  /home/nr/prjctr/nlp_env/lib/python3.6/site-packages/bs4/__init__.py:282: UserWarning: \"http://www.publicradio.org/tools/media/player/news/features/2007/06/22_extra_romanticmoment.smil\n",
      "\n",
      "\" looks like a URL. Beautiful Soup is not an HTTP client. You should probably use an HTTP client like requests to get the document behind the URL, and feed that document to Beautiful Soup.\n",
      "  ' that document to Beautiful Soup.' % decoded_markup\n",
      "/ 53727 Elapsed Time: 8:24:35                                                  "
     ]
    }
   ],
   "source": [
    "i = 0\n",
    "with GzipFile(ccarc) as stream:\n",
    "    for record in ArchiveIterator(stream):\n",
    "        if record.rec_type != 'response':\n",
    "            continue\n",
    "        \n",
    "        html = record.raw_stream.read()\n",
    "        detected = chardet.detect(html)\n",
    "        \n",
    "        html = html.decode(detected['encoding'], errors='replace') \\\n",
    "               if detected['encoding'] \\\n",
    "               else html.decode(errors='replace')\n",
    "\n",
    "        soup0 = BeautifulSoup(html, 'lxml').body\n",
    "        if not soup0:\n",
    "            continue\n",
    "        # Often readability can't make sense of html, so let's help it a bit\n",
    "        [s.extract() for s in soup0.select('*')\n",
    "                     if s.name in ['script', 'nav', 'footer']\n",
    "                        or len(s.text.strip()) < 3]\n",
    "\n",
    "        if len(soup0.text.strip()) < 10:\n",
    "            continue\n",
    "        try:\n",
    "            doc = Document(str(soup0)).summary()\n",
    "            soup = BeautifulSoup(doc, 'lxml')\n",
    "            if len(soup.text.strip())< 10:\n",
    "                soup = soup0\n",
    "        except (Unparseable, RecursionError):\n",
    "            soup = soup0\n",
    "            pass\n",
    "        text = re.sub('\\s+|(\\xa0)+|\\d+', ' ', soup.get_text(' ')).strip()\n",
    "        try:\n",
    "            langs.update([langdetect(text)[0]])\n",
    "        except Exception as e:\n",
    "            pdb.set_trace()\n",
    "        words.update(re.findall('\\w+', text))  # primitive tokenisation for speed\n",
    "        i += 1\n",
    "        bar.update(i)"
   ]
  },
  {
   "cell_type": "code",
   "execution_count": 20,
   "metadata": {},
   "outputs": [],
   "source": [
    "import matplotlib.pyplot as plt"
   ]
  },
  {
   "cell_type": "code",
   "execution_count": 53,
   "metadata": {},
   "outputs": [
    {
     "data": {
      "image/png": "[encoded data removed]",
      "text/plain": [
       "<Figure size 432x288 with 1 Axes>"
      ]
     },
     "metadata": {},
     "output_type": "display_data"
    },
    {
     "data": {
      "image/png": "[encoded data removed]",
      "text/plain": [
       "<Figure size 432x288 with 1 Axes>"
      ]
     },
     "metadata": {},
     "output_type": "display_data"
    }
   ],
   "source": [
    "lang_labs = [k for k, v in langs.most_common(20)]\n",
    "lang_values = [langs[k] for k in lang_labs]\n",
    "\n",
    "word_labs = [k for k, v in words.most_common(20)]\n",
    "word_values = [words[k] for k in word_labs]\n",
    "\n",
    "plt.figure(1)\n",
    "plt.barh(lang_labs, lang_values, 0.3, color=\"red\")\n",
    "ax = plt.gca()\n",
    "ax.invert_yaxis()\n",
    "ax.set_title('Languages distribution')\n",
    "\n",
    "plt.figure(2)\n",
    "plt.barh(word_labs, word_values, 0.3, color=\"blue\")\n",
    "ax = plt.gca()\n",
    "ax.invert_yaxis()\n",
    "ax.set_title('Word counts')\n",
    "\n",
    "plt.show()"
   ]
  },
  {
   "cell_type": "markdown",
   "metadata": {},
   "source": [
    "Stop-words are the most frequent so simple word count doesn't work. <br/>Language distribution looks close to reality, however prevalence of English can be explained also by bias in langid algorythm."
   ]
  },
  {
   "cell_type": "code",
   "execution_count": null,
   "metadata": {},
   "outputs": [],
   "source": []
  }
 ],
 "metadata": {
  "kernelspec": {
   "display_name": "Python 3",
   "language": "python",
   "name": "python3"
  },
  "language_info": {
   "codemirror_mode": {
    "name": "ipython",
    "version": 3
   },
   "file_extension": ".py",
   "mimetype": "text/x-python",
   "name": "python",
   "nbconvert_exporter": "python",
   "pygments_lexer": "ipython3",
   "version": "3.6.3"
  },
  "toc": {
   "nav_menu": {},
   "number_sections": true,
   "sideBar": true,
   "skip_h1_title": false,
   "title_cell": "Table of Contents",
   "title_sidebar": "Contents",
   "toc_cell": false,
   "toc_position": {},
   "toc_section_display": true,
   "toc_window_display": false
  },
  "varInspector": {
   "cols": {
    "lenName": 16,
    "lenType": 16,
    "lenVar": 40
   },
   "kernels_config": {
    "python": {
     "delete_cmd_postfix": "",
     "delete_cmd_prefix": "del ",
     "library": "var_list.py",
     "varRefreshCmd": "print(var_dic_list())"
    },
    "r": {
     "delete_cmd_postfix": ") ",
     "delete_cmd_prefix": "rm(",
     "library": "var_list.r",
     "varRefreshCmd": "cat(var_dic_list()) "
    }
   },
   "types_to_exclude": [
    "module",
    "function",
    "builtin_function_or_method",
    "instance",
    "_Feature"
   ],
   "window_display": false
  }
 },
 "nbformat": 4,
 "nbformat_minor": 2
}
