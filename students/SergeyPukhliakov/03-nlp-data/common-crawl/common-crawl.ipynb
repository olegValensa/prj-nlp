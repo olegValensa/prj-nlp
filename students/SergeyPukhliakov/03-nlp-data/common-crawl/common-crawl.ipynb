{
 "cells": [
  {
   "cell_type": "markdown",
   "metadata": {},
   "source": [
    "Quick implementation without tricky statistic"
   ]
  },
  {
   "cell_type": "code",
   "execution_count": 1,
   "metadata": {},
   "outputs": [],
   "source": [
    "import gzip\n",
    "from warcio.archiveiterator import ArchiveIterator\n",
    "from bs4 import BeautifulSoup\n",
    "import re\n",
    "from urllib.parse import urlparse\n",
    "from langdetect import detect\n",
    "from collections import Counter\n",
    "import string\n",
    "import matplotlib.pyplot as plt\n",
    "from sklearn.feature_extraction.text import CountVectorizer"
   ]
  },
  {
   "cell_type": "code",
   "execution_count": 3,
   "metadata": {},
   "outputs": [],
   "source": [
    "dataFile = \"D:/Projects/NLP/data.warc.gz\""
   ]
  },
  {
   "cell_type": "code",
   "execution_count": 5,
   "metadata": {},
   "outputs": [],
   "source": [
    "def get_content(html):\n",
    "    soup = BeautifulSoup(html, \"lxml\")\n",
    "    for script in soup([\"script\", \"style\"]):\n",
    "        script.decompose()\n",
    "    return re.sub(\"[\\n\\r\\t]{1,}\", \"\\n\", ''.join(soup.get_text())).strip()"
   ]
  },
  {
   "cell_type": "code",
   "execution_count": 9,
   "metadata": {},
   "outputs": [],
   "source": [
    "def parse_warc() :\n",
    "    with open(dataFile, 'rb') as stream:\n",
    "        for record in ArchiveIterator(stream):\n",
    "            if record.rec_type == 'response':            \n",
    "                yield {\n",
    "                    'uri' : record.rec_headers.get_header('WARC-Target-URI'),\n",
    "                    'content' : get_content(record.raw_stream.read())\n",
    "                }"
   ]
  },
  {
   "cell_type": "code",
   "execution_count": 10,
   "metadata": {},
   "outputs": [],
   "source": [
    "def parse_host(url):\n",
    "    return urlparse(url).netloc\n",
    "\n",
    "def detect_lang(text):\n",
    "    try:\n",
    "        return detect(text)\n",
    "    except:\n",
    "        return None\n",
    "\n",
    "def parse_features(text):\n",
    "    cv = CountVectorizer(max_features=10000)\n",
    "    matrix = cv.fit_transform([text])\n",
    "    return cv.get_feature_names()\n",
    "    "
   ]
  },
  {
   "cell_type": "code",
   "execution_count": 12,
   "metadata": {},
   "outputs": [
    {
     "name": "stderr",
     "output_type": "stream",
     "text": [
      "d:\\python\\python36-32\\lib\\site-packages\\bs4\\__init__.py:219: UserWarning: \"b'.'\" looks like a filename, not markup. You should probably open this file and pass the filehandle into Beautiful Soup.\n",
      "  ' Beautiful Soup.' % markup)\n"
     ]
    }
   ],
   "source": [
    "host_counter = Counter()\n",
    "lang_counter = Counter()\n",
    "word_counter = Counter()\n",
    "for page in parse_warc():    \n",
    "    content = page['content']\n",
    "    lang = detect_lang(content)\n",
    "    if lang != None: lang_counter.update([lang])\n",
    "    if lang == 'en':\n",
    "        words = parse_features(content)\n",
    "        word_counter.update(words)\n",
    "    host_counter.update([parse_host(page['uri'])])"
   ]
  },
  {
   "cell_type": "code",
   "execution_count": 13,
   "metadata": {},
   "outputs": [
    {
     "data": {
      "text/plain": [
       "[('m.mlb.com', 72),\n",
       " ('www.meetup.com', 48),\n",
       " ('www.urbandictionary.com', 48),\n",
       " ('www.popsugar.com', 41),\n",
       " ('www.engadget.com', 39),\n",
       " ('en.wikipedia.org', 36),\n",
       " ('www.beeradvocate.com', 34),\n",
       " ('www.gamefaqs.com', 34),\n",
       " ('www.cnet.com', 32),\n",
       " ('www.heraldnet.com', 32),\n",
       " ('www.agoda.com', 31),\n",
       " ('idahoptv.org', 30),\n",
       " ('www.boxofficemojo.com', 30),\n",
       " ('www.dpreview.com', 30),\n",
       " ('www.upi.com', 30),\n",
       " ('www.worldcat.org', 30),\n",
       " ('stackoverflow.com', 29),\n",
       " ('www.hockeyfights.com', 28),\n",
       " ('www.nytimes.com', 28),\n",
       " ('www.appbrain.com', 27)]"
      ]
     },
     "execution_count": 13,
     "metadata": {},
     "output_type": "execute_result"
    }
   ],
   "source": [
    "host_counter.most_common(20)"
   ]
  },
  {
   "cell_type": "code",
   "execution_count": 14,
   "metadata": {},
   "outputs": [
    {
     "data": {
      "text/plain": [
       "[('en', 44072), ('es', 784), ('de', 608), ('fr', 551), ('pt', 257)]"
      ]
     },
     "execution_count": 14,
     "metadata": {},
     "output_type": "execute_result"
    }
   ],
   "source": [
    "lang_counter.most_common(5)"
   ]
  },
  {
   "cell_type": "code",
   "execution_count": 15,
   "metadata": {},
   "outputs": [
    {
     "data": {
      "text/plain": [
       "[('to', 40085),\n",
       " ('the', 39867),\n",
       " ('of', 39093),\n",
       " ('and', 38537),\n",
       " ('in', 37798),\n",
       " ('for', 36342),\n",
       " ('by', 33894),\n",
       " ('all', 33561),\n",
       " ('on', 33484),\n",
       " ('is', 31234),\n",
       " ('your', 31031),\n",
       " ('this', 30899),\n",
       " ('about', 30784),\n",
       " ('us', 30770),\n",
       " ('with', 30743),\n",
       " ('you', 30270),\n",
       " ('contact', 28477),\n",
       " ('or', 27968),\n",
       " ('more', 27704),\n",
       " ('home', 27534),\n",
       " ('are', 26673),\n",
       " ('privacy', 26367),\n",
       " ('at', 26164),\n",
       " ('new', 26063),\n",
       " ('from', 25981),\n",
       " ('2016', 25873),\n",
       " ('be', 24228),\n",
       " ('it', 23639),\n",
       " ('search', 23569),\n",
       " ('an', 22701),\n",
       " ('not', 22579),\n",
       " ('up', 22543),\n",
       " ('that', 22515),\n",
       " ('have', 22498),\n",
       " ('our', 22216),\n",
       " ('com', 21757),\n",
       " ('policy', 21485),\n",
       " ('terms', 20648),\n",
       " ('as', 20263),\n",
       " ('site', 20178),\n",
       " ('use', 19793),\n",
       " ('help', 19663),\n",
       " ('10', 19519),\n",
       " ('we', 19485),\n",
       " ('no', 18899),\n",
       " ('can', 18895),\n",
       " ('my', 18773),\n",
       " ('rights', 18406),\n",
       " ('view', 18280),\n",
       " ('news', 18259)]"
      ]
     },
     "execution_count": 15,
     "metadata": {},
     "output_type": "execute_result"
    }
   ],
   "source": [
    "word_counter.most_common(50)"
   ]
  },
  {
   "cell_type": "code",
   "execution_count": null,
   "metadata": {},
   "outputs": [],
   "source": []
  }
 ],
 "metadata": {
  "kernelspec": {
   "display_name": "Python 3",
   "language": "python",
   "name": "python3"
  },
  "language_info": {
   "codemirror_mode": {
    "name": "ipython",
    "version": 3
   },
   "file_extension": ".py",
   "mimetype": "text/x-python",
   "name": "python",
   "nbconvert_exporter": "python",
   "pygments_lexer": "ipython3",
   "version": "3.6.4"
  }
 },
 "nbformat": 4,
 "nbformat_minor": 2
}
