{
 "cells": [
  {
   "cell_type": "code",
   "execution_count": 2,
   "metadata": {},
   "outputs": [],
   "source": [
    "import bz2\n",
    "import xml.sax as sax\n",
    "import xml.etree.cElementTree as ET\n",
    "import itertools as it\n",
    "import re"
   ]
  },
  {
   "cell_type": "code",
   "execution_count": 3,
   "metadata": {},
   "outputs": [],
   "source": [
    "FILE_BZ = 'fiwiktionary-20180301-pages-articles-multistream.xml.bz2'\n",
    "FILE = 'fiwiktionary-20180301-pages-articles-multistream.xml'\n",
    "NS = '{http://www.mediawiki.org/xml/export-0.10/}'"
   ]
  },
  {
   "cell_type": "code",
   "execution_count": 4,
   "metadata": {},
   "outputs": [],
   "source": [
    "def tag(tag_name):\n",
    "    return NS + tag_name"
   ]
  },
  {
   "cell_type": "code",
   "execution_count": 5,
   "metadata": {},
   "outputs": [],
   "source": [
    "def text(elem):\n",
    "    return \"\".join(elem.itertext())"
   ]
  },
  {
   "cell_type": "code",
   "execution_count": 6,
   "metadata": {},
   "outputs": [],
   "source": [
    "SYNONYM_LABEL = '=====Synonyymit====='"
   ]
  },
  {
   "cell_type": "code",
   "execution_count": 63,
   "metadata": {},
   "outputs": [],
   "source": [
    "def extract_meaning(line):\n",
    "    # Sorry for messy code\n",
    "    matches = re.findall(r\"\"\"\n",
    "    \\*\n",
    "    \\s?\n",
    "    (?:\n",
    "      (?:''\\(|\\(''|\\{\\{)\n",
    "      ([^\\[]*)\n",
    "      (?:\\)''|''\\)|\\}\\})\n",
    "    )?\n",
    "    \\s?\n",
    "    (.*)\n",
    "    \"\"\", line, re.VERBOSE)\n",
    "    senses, rest = matches[0]\n",
    "    sense = senses.split('|')[0].split(',')[0].strip()  \n",
    "    syns = [s.strip().replace('[[', '').replace(']]', '').split('|')[0] for s in rest.split(',')]\n",
    "    syns = [syn for syn in syns if not re.search(r\"\\[|''\", syn)]\n",
    "    return (sense, syns)\n",
    "\n",
    "def extract_synonyms(txt):\n",
    "    syns_l = txt.split('\\n')\n",
    "    syns_l = it.dropwhile(lambda l: l != '==Suomi==', syns_l)\n",
    "    syns_l = list(syns_l)[1:]\n",
    "    syns_l = it.takewhile(lambda l: not re.match('==\\w+==', l), syns_l)\n",
    "    syns_l = it.dropwhile(lambda l: l != SYNONYM_LABEL, syns_l)\n",
    "    syns_l = list(syns_l)[1:]\n",
    "    syns_l = it.takewhile(lambda l: l.startswith('*'), syns_l)\n",
    "    syns_l = [extract_meaning(l) for l in syns_l]\n",
    "    return list(syns_l)\n",
    "\n",
    "DEFAULT_SENSE = 'OLETUSARVO'\n",
    "\n",
    "def extend_synonyms(dic, word, raw_syns):\n",
    "    if len(raw_syns) != 0:\n",
    "        senses = dic.get(word, {})\n",
    "        for (sense, syns) in raw_syns:\n",
    "            word_synonyms = senses.get(sense, [])\n",
    "            word_synonyms += syns\n",
    "            senses[sense if len(sense) != 0 else DEFAULT_SENSE] = word_synonyms\n",
    "        dic[word] = senses        \n",
    "    \n",
    "\n",
    "all_syns = {}\n",
    "    \n",
    "for event, elem in ET.iterparse(bz2.open(FILE_BZ), events=['end']):\n",
    "    if event == 'end':\n",
    "        if elem.tag == tag('page'):\n",
    "            ns_el = elem.find(tag('ns'))\n",
    "            if text(ns_el) == '0':\n",
    "                title_el = elem.find(tag('title'))\n",
    "                title = text(title_el)\n",
    "                revision_el = elem.find(tag('revision'))\n",
    "                text_el = revision_el.find(tag('text'))\n",
    "                txt = text(text_el)\n",
    "                syns = extract_synonyms(txt)\n",
    "                extend_synonyms(all_syns, title, syns)"
   ]
  },
  {
   "cell_type": "code",
   "execution_count": 64,
   "metadata": {},
   "outputs": [],
   "source": [
    "with open('res.txt', 'w') as f:\n",
    "    for (word, senses) in sorted(all_syns.items()):\n",
    "        for sense, synonyms in sorted(senses.items()):\n",
    "            f.write('{}\\t{}\\t{}\\n'.format(word, sense, '|'.join(synonyms)))"
   ]
  },
  {
   "cell_type": "code",
   "execution_count": 65,
   "metadata": {},
   "outputs": [
    {
     "data": {
      "text/plain": [
       "6050"
      ]
     },
     "execution_count": 65,
     "metadata": {},
     "output_type": "execute_result"
    }
   ],
   "source": [
    "len(all_syns)"
   ]
  },
  {
   "cell_type": "code",
   "execution_count": 53,
   "metadata": {},
   "outputs": [
    {
     "data": {
      "text/plain": [
       "<_sre.SRE_Match object; span=(1, 3), match=\"''\">"
      ]
     },
     "execution_count": 53,
     "metadata": {},
     "output_type": "execute_result"
    }
   ],
   "source": [
    "re.search(r\"\\[|''\", \"(''leikkimielinen'') hyrysysy\")"
   ]
  },
  {
   "cell_type": "code",
   "execution_count": null,
   "metadata": {},
   "outputs": [],
   "source": []
  }
 ],
 "metadata": {
  "kernelspec": {
   "display_name": "Python 3",
   "language": "python",
   "name": "python3"
  },
  "language_info": {
   "codemirror_mode": {
    "name": "ipython",
    "version": 3
   },
   "file_extension": ".py",
   "mimetype": "text/x-python",
   "name": "python",
   "nbconvert_exporter": "python",
   "pygments_lexer": "ipython3",
   "version": "3.6.1"
  }
 },
 "nbformat": 4,
 "nbformat_minor": 2
}
